{
 "cells": [
  {
   "cell_type": "markdown",
   "id": "d816513b",
   "metadata": {},
   "source": [
    "# 1. ETL (extract, transform, load) Data"
   ]
  },
  {
   "cell_type": "code",
   "execution_count": 1,
   "id": "181df26a",
   "metadata": {},
   "outputs": [],
   "source": [
    "import pandas as pd\n",
    "import numpy as np\n",
    "from matplotlib import pyplot as plt\n",
    "%matplotlib inline\n",
    "from sklearn import datasets\n",
    "from dython.nominal import associations"
   ]
  },
  {
   "cell_type": "markdown",
   "id": "6d7e14d1",
   "metadata": {},
   "source": [
    "### 1.1 Data sample"
   ]
  },
  {
   "cell_type": "code",
   "execution_count": 2,
   "id": "995a8877",
   "metadata": {},
   "outputs": [
    {
     "data": {
      "text/html": [
       "<div><div id=9fa7a661-ff54-4188-9a3d-dea06f7ac144 style=\"display:none; background-color:#9D6CFF; color:white; width:200px; height:30px; padding-left:5px; border-radius:4px; flex-direction:row; justify-content:space-around; align-items:center;\" onmouseover=\"this.style.backgroundColor='#BA9BF8'\" onmouseout=\"this.style.backgroundColor='#9D6CFF'\" onclick=\"window.commands?.execute('create-mitosheet-from-dataframe-output');\">See Full Dataframe in Mito</div> <script> if (window.commands.hasCommand('create-mitosheet-from-dataframe-output')) document.getElementById('9fa7a661-ff54-4188-9a3d-dea06f7ac144').style.display = 'flex' </script> <table border=\"1\" class=\"dataframe\">\n",
       "  <thead>\n",
       "    <tr style=\"text-align: right;\">\n",
       "      <th></th>\n",
       "      <th>CoCode</th>\n",
       "      <th>Region</th>\n",
       "      <th>DocumentNo</th>\n",
       "      <th>Year</th>\n",
       "      <th>Period</th>\n",
       "      <th>G/UMJE</th>\n",
       "      <th>Time</th>\n",
       "      <th>Reference Key</th>\n",
       "      <th>Sess. Name</th>\n",
       "      <th>Type</th>\n",
       "      <th>...</th>\n",
       "      <th>Doc. Date</th>\n",
       "      <th>Revers.Dte</th>\n",
       "      <th>Entry Date</th>\n",
       "      <th>Crcy</th>\n",
       "      <th>Closing week based on entry date</th>\n",
       "      <th>Closing/non-closing week based on entry date</th>\n",
       "      <th>Quarter</th>\n",
       "      <th>Closing week at Q-end</th>\n",
       "      <th>Type2</th>\n",
       "      <th>EUR_Value</th>\n",
       "    </tr>\n",
       "  </thead>\n",
       "  <tbody>\n",
       "    <tr>\n",
       "      <th>52863</th>\n",
       "      <td>TN80</td>\n",
       "      <td>AFR</td>\n",
       "      <td>9390000001</td>\n",
       "      <td>2021</td>\n",
       "      <td>10</td>\n",
       "      <td>GMJE</td>\n",
       "      <td>11:17:16</td>\n",
       "      <td>9390000001TN802021</td>\n",
       "      <td>NaN</td>\n",
       "      <td>XX</td>\n",
       "      <td>...</td>\n",
       "      <td>2021-10-31</td>\n",
       "      <td>NaT</td>\n",
       "      <td>2021-11-03</td>\n",
       "      <td>TND</td>\n",
       "      <td>P10 Wednesday</td>\n",
       "      <td>P10 Wednesday</td>\n",
       "      <td>Q4</td>\n",
       "      <td>NaN</td>\n",
       "      <td>Permanent</td>\n",
       "      <td>19879.50</td>\n",
       "    </tr>\n",
       "    <tr>\n",
       "      <th>20312</th>\n",
       "      <td>FI85</td>\n",
       "      <td>WE</td>\n",
       "      <td>7580000311</td>\n",
       "      <td>2021</td>\n",
       "      <td>2</td>\n",
       "      <td>UMJE</td>\n",
       "      <td>16:38:23</td>\n",
       "      <td>7580000311FI852021</td>\n",
       "      <td>NaN</td>\n",
       "      <td>SA</td>\n",
       "      <td>...</td>\n",
       "      <td>2021-03-05</td>\n",
       "      <td>NaT</td>\n",
       "      <td>2021-03-05</td>\n",
       "      <td>EUR</td>\n",
       "      <td>P2 Friday</td>\n",
       "      <td>P2 Friday</td>\n",
       "      <td>Q1</td>\n",
       "      <td>NaN</td>\n",
       "      <td>Permanent</td>\n",
       "      <td>153458.19</td>\n",
       "    </tr>\n",
       "    <tr>\n",
       "      <th>50770</th>\n",
       "      <td>RO80</td>\n",
       "      <td>SEE</td>\n",
       "      <td>8380000025</td>\n",
       "      <td>2021</td>\n",
       "      <td>11</td>\n",
       "      <td>UMJE</td>\n",
       "      <td>17:29:47</td>\n",
       "      <td>8380000025RO802021</td>\n",
       "      <td>NaN</td>\n",
       "      <td>UI</td>\n",
       "      <td>...</td>\n",
       "      <td>2021-12-02</td>\n",
       "      <td>NaT</td>\n",
       "      <td>2021-12-02</td>\n",
       "      <td>RON</td>\n",
       "      <td>P11 Thursday</td>\n",
       "      <td>P11 Thursday</td>\n",
       "      <td>Q4</td>\n",
       "      <td>NaN</td>\n",
       "      <td>Permanent</td>\n",
       "      <td>32815.29</td>\n",
       "    </tr>\n",
       "    <tr>\n",
       "      <th>17132</th>\n",
       "      <td>FI85</td>\n",
       "      <td>WE</td>\n",
       "      <td>7500000162</td>\n",
       "      <td>2021</td>\n",
       "      <td>1</td>\n",
       "      <td>GMJE</td>\n",
       "      <td>12:43:21</td>\n",
       "      <td>7500000162FI852021</td>\n",
       "      <td>NaN</td>\n",
       "      <td>S2</td>\n",
       "      <td>...</td>\n",
       "      <td>2021-02-05</td>\n",
       "      <td>NaT</td>\n",
       "      <td>2021-02-05</td>\n",
       "      <td>EUR</td>\n",
       "      <td>P1 Friday</td>\n",
       "      <td>P1 Friday</td>\n",
       "      <td>Q1</td>\n",
       "      <td>NaN</td>\n",
       "      <td>Accrual</td>\n",
       "      <td>56640.43</td>\n",
       "    </tr>\n",
       "    <tr>\n",
       "      <th>13879</th>\n",
       "      <td>DZ80</td>\n",
       "      <td>AFR</td>\n",
       "      <td>8450000022</td>\n",
       "      <td>2021</td>\n",
       "      <td>3</td>\n",
       "      <td>GMJE</td>\n",
       "      <td>17:19:27</td>\n",
       "      <td>8450000022DZ802021</td>\n",
       "      <td>NaN</td>\n",
       "      <td>UP</td>\n",
       "      <td>...</td>\n",
       "      <td>2021-04-02</td>\n",
       "      <td>NaT</td>\n",
       "      <td>2021-04-02</td>\n",
       "      <td>DZD</td>\n",
       "      <td>P3 Friday</td>\n",
       "      <td>P3 Friday</td>\n",
       "      <td>Q1</td>\n",
       "      <td>Q1 cutoff</td>\n",
       "      <td>Accrual</td>\n",
       "      <td>128135.96</td>\n",
       "    </tr>\n",
       "  </tbody>\n",
       "</table></div>"
      ],
      "text/plain": [
       "      CoCode Region  DocumentNo  Year  Period G/UMJE      Time  \\\n",
       "52863   TN80    AFR  9390000001  2021      10   GMJE  11:17:16   \n",
       "20312   FI85     WE  7580000311  2021       2   UMJE  16:38:23   \n",
       "50770   RO80    SEE  8380000025  2021      11   UMJE  17:29:47   \n",
       "17132   FI85     WE  7500000162  2021       1   GMJE  12:43:21   \n",
       "13879   DZ80    AFR  8450000022  2021       3   GMJE  17:19:27   \n",
       "\n",
       "            Reference Key  Sess. Name Type  ...  Doc. Date Revers.Dte  \\\n",
       "52863  9390000001TN802021         NaN   XX  ... 2021-10-31        NaT   \n",
       "20312  7580000311FI852021         NaN   SA  ... 2021-03-05        NaT   \n",
       "50770  8380000025RO802021         NaN   UI  ... 2021-12-02        NaT   \n",
       "17132  7500000162FI852021         NaN   S2  ... 2021-02-05        NaT   \n",
       "13879  8450000022DZ802021         NaN   UP  ... 2021-04-02        NaT   \n",
       "\n",
       "      Entry Date Crcy  Closing week based on entry date  \\\n",
       "52863 2021-11-03  TND                     P10 Wednesday   \n",
       "20312 2021-03-05  EUR                         P2 Friday   \n",
       "50770 2021-12-02  RON                      P11 Thursday   \n",
       "17132 2021-02-05  EUR                         P1 Friday   \n",
       "13879 2021-04-02  DZD                         P3 Friday   \n",
       "\n",
       "       Closing/non-closing week based on entry date Quarter  \\\n",
       "52863                                 P10 Wednesday      Q4   \n",
       "20312                                     P2 Friday      Q1   \n",
       "50770                                  P11 Thursday      Q4   \n",
       "17132                                     P1 Friday      Q1   \n",
       "13879                                     P3 Friday      Q1   \n",
       "\n",
       "      Closing week at Q-end      Type2  EUR_Value  \n",
       "52863                   NaN  Permanent   19879.50  \n",
       "20312                   NaN  Permanent  153458.19  \n",
       "50770                   NaN  Permanent   32815.29  \n",
       "17132                   NaN    Accrual   56640.43  \n",
       "13879             Q1 cutoff    Accrual  128135.96  \n",
       "\n",
       "[5 rows x 27 columns]"
      ]
     },
     "execution_count": 2,
     "metadata": {},
     "output_type": "execute_result"
    }
   ],
   "source": [
    "MJE = pd.read_excel(r'C:\\Users\\hancu\\Desktop\\Data literacy\\P20_MJE_2021_Data.xlsx')\n",
    "MJE.sample(5)"
   ]
  },
  {
   "cell_type": "markdown",
   "id": "2ec5269a",
   "metadata": {},
   "source": [
    "### 1.2 Data Shape & Type"
   ]
  },
  {
   "cell_type": "code",
   "execution_count": 3,
   "id": "9d6410bc",
   "metadata": {},
   "outputs": [
    {
     "data": {
      "text/plain": [
       "(56140, 27)"
      ]
     },
     "execution_count": 3,
     "metadata": {},
     "output_type": "execute_result"
    }
   ],
   "source": [
    "MJE.shape"
   ]
  },
  {
   "cell_type": "code",
   "execution_count": 4,
   "id": "23c59e78",
   "metadata": {},
   "outputs": [
    {
     "name": "stdout",
     "output_type": "stream",
     "text": [
      "<class 'pandas.core.frame.DataFrame'>\n",
      "RangeIndex: 56140 entries, 0 to 56139\n",
      "Data columns (total 27 columns):\n",
      " #   Column                                        Non-Null Count  Dtype         \n",
      "---  ------                                        --------------  -----         \n",
      " 0   CoCode                                        56140 non-null  object        \n",
      " 1   Region                                        56140 non-null  object        \n",
      " 2   DocumentNo                                    56140 non-null  int64         \n",
      " 3   Year                                          56140 non-null  int64         \n",
      " 4   Period                                        56140 non-null  int64         \n",
      " 5   G/UMJE                                        56140 non-null  object        \n",
      " 6   Time                                          56140 non-null  object        \n",
      " 7   Reference Key                                 56140 non-null  object        \n",
      " 8   Sess. Name                                    0 non-null      float64       \n",
      " 9   Type                                          56140 non-null  object        \n",
      " 10  DT descr                                      56140 non-null  object        \n",
      " 11  DT assignment                                 56140 non-null  object        \n",
      " 12  MJE scope                                     56140 non-null  object        \n",
      " 13  TCode                                         56140 non-null  object        \n",
      " 14  Reversal                                      29955 non-null  float64       \n",
      " 15  RecEnt doc                                    0 non-null      float64       \n",
      " 16  Pstng Date                                    56140 non-null  datetime64[ns]\n",
      " 17  Doc. Date                                     56140 non-null  datetime64[ns]\n",
      " 18  Revers.Dte                                    93 non-null     datetime64[ns]\n",
      " 19  Entry Date                                    56140 non-null  datetime64[ns]\n",
      " 20  Crcy                                          56140 non-null  object        \n",
      " 21  Closing week based on entry date              56140 non-null  object        \n",
      " 22  Closing/non-closing week based on entry date  56140 non-null  object        \n",
      " 23  Quarter                                       56140 non-null  object        \n",
      " 24  Closing week at Q-end                         19379 non-null  object        \n",
      " 25  Type2                                         56140 non-null  object        \n",
      " 26  EUR_Value                                     56140 non-null  float64       \n",
      "dtypes: datetime64[ns](4), float64(4), int64(3), object(16)\n",
      "memory usage: 11.6+ MB\n"
     ]
    }
   ],
   "source": [
    "MJE.info()"
   ]
  },
  {
   "cell_type": "code",
   "execution_count": 5,
   "id": "991dd8ed",
   "metadata": {},
   "outputs": [
    {
     "data": {
      "text/plain": [
       "CoCode                                              0\n",
       "Region                                              0\n",
       "DocumentNo                                          0\n",
       "Year                                                0\n",
       "Period                                              0\n",
       "G/UMJE                                              0\n",
       "Time                                                0\n",
       "Reference Key                                       0\n",
       "Sess. Name                                      56140\n",
       "Type                                                0\n",
       "DT descr                                            0\n",
       "DT assignment                                       0\n",
       "MJE scope                                           0\n",
       "TCode                                               0\n",
       "Reversal                                        26185\n",
       "RecEnt doc                                      56140\n",
       "Pstng Date                                          0\n",
       "Doc. Date                                           0\n",
       "Revers.Dte                                      56047\n",
       "Entry Date                                          0\n",
       "Crcy                                                0\n",
       "Closing week based on entry date                    0\n",
       "Closing/non-closing week based on entry date        0\n",
       "Quarter                                             0\n",
       "Closing week at Q-end                           36761\n",
       "Type2                                               0\n",
       "EUR_Value                                           0\n",
       "dtype: int64"
      ]
     },
     "execution_count": 5,
     "metadata": {},
     "output_type": "execute_result"
    }
   ],
   "source": [
    "MJE.isnull().sum()"
   ]
  },
  {
   "cell_type": "markdown",
   "id": "77907ad4",
   "metadata": {},
   "source": [
    "### 1.3 Delete the columns with a big number of blanks: 'Sess. Name', 'Reversal', 'RecEnt doc', 'Revers.Dte', 'Closing week at Q-end'"
   ]
  },
  {
   "cell_type": "code",
   "execution_count": 6,
   "id": "69a9ae31",
   "metadata": {},
   "outputs": [],
   "source": [
    "MJE.drop(['Sess. Name', 'Reversal', 'RecEnt doc', 'Revers.Dte', 'Closing week at Q-end'], axis=1, inplace=True)"
   ]
  },
  {
   "cell_type": "code",
   "execution_count": 7,
   "id": "d72e8ef3",
   "metadata": {},
   "outputs": [
    {
     "data": {
      "text/html": [
       "<div><div id=64067014-fd81-42bc-9382-b6851e6f4bac style=\"display:none; background-color:#9D6CFF; color:white; width:200px; height:30px; padding-left:5px; border-radius:4px; flex-direction:row; justify-content:space-around; align-items:center;\" onmouseover=\"this.style.backgroundColor='#BA9BF8'\" onmouseout=\"this.style.backgroundColor='#9D6CFF'\" onclick=\"window.commands?.execute('create-mitosheet-from-dataframe-output');\">See Full Dataframe in Mito</div> <script> if (window.commands.hasCommand('create-mitosheet-from-dataframe-output')) document.getElementById('64067014-fd81-42bc-9382-b6851e6f4bac').style.display = 'flex' </script> <table border=\"1\" class=\"dataframe\">\n",
       "  <thead>\n",
       "    <tr style=\"text-align: right;\">\n",
       "      <th></th>\n",
       "      <th>CoCode</th>\n",
       "      <th>Region</th>\n",
       "      <th>DocumentNo</th>\n",
       "      <th>Year</th>\n",
       "      <th>Period</th>\n",
       "      <th>G/UMJE</th>\n",
       "      <th>Time</th>\n",
       "      <th>Reference Key</th>\n",
       "      <th>Type</th>\n",
       "      <th>DT descr</th>\n",
       "      <th>...</th>\n",
       "      <th>TCode</th>\n",
       "      <th>Pstng Date</th>\n",
       "      <th>Doc. Date</th>\n",
       "      <th>Entry Date</th>\n",
       "      <th>Crcy</th>\n",
       "      <th>Closing week based on entry date</th>\n",
       "      <th>Closing/non-closing week based on entry date</th>\n",
       "      <th>Quarter</th>\n",
       "      <th>Type2</th>\n",
       "      <th>EUR_Value</th>\n",
       "    </tr>\n",
       "  </thead>\n",
       "  <tbody>\n",
       "    <tr>\n",
       "      <th>0</th>\n",
       "      <td>AE80</td>\n",
       "      <td>MEA</td>\n",
       "      <td>6630000017</td>\n",
       "      <td>2021</td>\n",
       "      <td>11</td>\n",
       "      <td>UMJE</td>\n",
       "      <td>12:34:43</td>\n",
       "      <td>6630000017AE802021</td>\n",
       "      <td>PN</td>\n",
       "      <td>GL Account Doc LSAS</td>\n",
       "      <td>...</td>\n",
       "      <td>FB01</td>\n",
       "      <td>2021-11-19</td>\n",
       "      <td>2021-11-19</td>\n",
       "      <td>2021-11-30</td>\n",
       "      <td>AED</td>\n",
       "      <td>P11 Tuesday</td>\n",
       "      <td>P11 Tuesday</td>\n",
       "      <td>Q4</td>\n",
       "      <td>Permanent</td>\n",
       "      <td>203728.69</td>\n",
       "    </tr>\n",
       "    <tr>\n",
       "      <th>1</th>\n",
       "      <td>AE80</td>\n",
       "      <td>MEA</td>\n",
       "      <td>7010000000</td>\n",
       "      <td>2021</td>\n",
       "      <td>3</td>\n",
       "      <td>UMJE</td>\n",
       "      <td>14:54:23</td>\n",
       "      <td>7010000000AE802021</td>\n",
       "      <td>QP</td>\n",
       "      <td>OPEX man rev Perm Ac</td>\n",
       "      <td>...</td>\n",
       "      <td>FB01</td>\n",
       "      <td>2021-03-25</td>\n",
       "      <td>2021-03-25</td>\n",
       "      <td>2021-03-25</td>\n",
       "      <td>AED</td>\n",
       "      <td>Non-closing week</td>\n",
       "      <td>P3 Non-closing week</td>\n",
       "      <td>Q1</td>\n",
       "      <td>Permanent</td>\n",
       "      <td>30279.92</td>\n",
       "    </tr>\n",
       "    <tr>\n",
       "      <th>2</th>\n",
       "      <td>AE80</td>\n",
       "      <td>MEA</td>\n",
       "      <td>7490000000</td>\n",
       "      <td>2021</td>\n",
       "      <td>3</td>\n",
       "      <td>GMJE</td>\n",
       "      <td>15:40:36</td>\n",
       "      <td>7490000000AE802021</td>\n",
       "      <td>S1</td>\n",
       "      <td>G/L Accr Permanent</td>\n",
       "      <td>...</td>\n",
       "      <td>FB01</td>\n",
       "      <td>2021-04-01</td>\n",
       "      <td>2021-04-01</td>\n",
       "      <td>2021-04-01</td>\n",
       "      <td>EUR</td>\n",
       "      <td>P3 Thursday</td>\n",
       "      <td>P3 Thursday</td>\n",
       "      <td>Q1</td>\n",
       "      <td>Permanent</td>\n",
       "      <td>200000.00</td>\n",
       "    </tr>\n",
       "    <tr>\n",
       "      <th>3</th>\n",
       "      <td>AE80</td>\n",
       "      <td>MEA</td>\n",
       "      <td>7490000001</td>\n",
       "      <td>2021</td>\n",
       "      <td>5</td>\n",
       "      <td>GMJE</td>\n",
       "      <td>08:41:14</td>\n",
       "      <td>7490000001AE802021</td>\n",
       "      <td>S1</td>\n",
       "      <td>G/L Accr Permanent</td>\n",
       "      <td>...</td>\n",
       "      <td>FB01</td>\n",
       "      <td>2021-06-03</td>\n",
       "      <td>2021-06-03</td>\n",
       "      <td>2021-06-03</td>\n",
       "      <td>EUR</td>\n",
       "      <td>P5 Thursday</td>\n",
       "      <td>P5 Thursday</td>\n",
       "      <td>Q2</td>\n",
       "      <td>Permanent</td>\n",
       "      <td>200000.00</td>\n",
       "    </tr>\n",
       "    <tr>\n",
       "      <th>4</th>\n",
       "      <td>AE80</td>\n",
       "      <td>MEA</td>\n",
       "      <td>7490000002</td>\n",
       "      <td>2021</td>\n",
       "      <td>6</td>\n",
       "      <td>GMJE</td>\n",
       "      <td>14:41:07</td>\n",
       "      <td>7490000002AE802021</td>\n",
       "      <td>S1</td>\n",
       "      <td>G/L Accr Permanent</td>\n",
       "      <td>...</td>\n",
       "      <td>FB01</td>\n",
       "      <td>2021-06-30</td>\n",
       "      <td>2021-06-30</td>\n",
       "      <td>2021-06-30</td>\n",
       "      <td>EUR</td>\n",
       "      <td>P6 Wednesday</td>\n",
       "      <td>P6 Wednesday</td>\n",
       "      <td>Q2</td>\n",
       "      <td>Permanent</td>\n",
       "      <td>200000.00</td>\n",
       "    </tr>\n",
       "  </tbody>\n",
       "</table></div>"
      ],
      "text/plain": [
       "  CoCode Region  DocumentNo  Year  Period G/UMJE      Time  \\\n",
       "0   AE80    MEA  6630000017  2021      11   UMJE  12:34:43   \n",
       "1   AE80    MEA  7010000000  2021       3   UMJE  14:54:23   \n",
       "2   AE80    MEA  7490000000  2021       3   GMJE  15:40:36   \n",
       "3   AE80    MEA  7490000001  2021       5   GMJE  08:41:14   \n",
       "4   AE80    MEA  7490000002  2021       6   GMJE  14:41:07   \n",
       "\n",
       "        Reference Key Type              DT descr  ... TCode Pstng Date  \\\n",
       "0  6630000017AE802021   PN   GL Account Doc LSAS  ...  FB01 2021-11-19   \n",
       "1  7010000000AE802021   QP  OPEX man rev Perm Ac  ...  FB01 2021-03-25   \n",
       "2  7490000000AE802021   S1    G/L Accr Permanent  ...  FB01 2021-04-01   \n",
       "3  7490000001AE802021   S1    G/L Accr Permanent  ...  FB01 2021-06-03   \n",
       "4  7490000002AE802021   S1    G/L Accr Permanent  ...  FB01 2021-06-30   \n",
       "\n",
       "   Doc. Date Entry Date Crcy Closing week based on entry date  \\\n",
       "0 2021-11-19 2021-11-30  AED                      P11 Tuesday   \n",
       "1 2021-03-25 2021-03-25  AED                 Non-closing week   \n",
       "2 2021-04-01 2021-04-01  EUR                      P3 Thursday   \n",
       "3 2021-06-03 2021-06-03  EUR                      P5 Thursday   \n",
       "4 2021-06-30 2021-06-30  EUR                     P6 Wednesday   \n",
       "\n",
       "  Closing/non-closing week based on entry date Quarter      Type2  EUR_Value  \n",
       "0                                  P11 Tuesday      Q4  Permanent  203728.69  \n",
       "1                          P3 Non-closing week      Q1  Permanent   30279.92  \n",
       "2                                  P3 Thursday      Q1  Permanent  200000.00  \n",
       "3                                  P5 Thursday      Q2  Permanent  200000.00  \n",
       "4                                 P6 Wednesday      Q2  Permanent  200000.00  \n",
       "\n",
       "[5 rows x 22 columns]"
      ]
     },
     "execution_count": 7,
     "metadata": {},
     "output_type": "execute_result"
    }
   ],
   "source": [
    "MJE.head()"
   ]
  },
  {
   "cell_type": "markdown",
   "id": "5fb534cf",
   "metadata": {},
   "source": [
    "### 1.4 Split the dataset into 2 datasets:\n",
    "#### - one with categorical variables\n",
    "#### - and a second one with numerical variables"
   ]
  },
  {
   "cell_type": "code",
   "execution_count": 8,
   "id": "da532e22",
   "metadata": {},
   "outputs": [],
   "source": [
    "categorical = MJE.select_dtypes(include=['object']).columns.tolist()"
   ]
  },
  {
   "cell_type": "code",
   "execution_count": 9,
   "id": "94c90b79",
   "metadata": {},
   "outputs": [
    {
     "data": {
      "text/html": [
       "<div><div id=ede64697-8fdf-44cf-ae23-84fd7f69a35a style=\"display:none; background-color:#9D6CFF; color:white; width:200px; height:30px; padding-left:5px; border-radius:4px; flex-direction:row; justify-content:space-around; align-items:center;\" onmouseover=\"this.style.backgroundColor='#BA9BF8'\" onmouseout=\"this.style.backgroundColor='#9D6CFF'\" onclick=\"window.commands?.execute('create-mitosheet-from-dataframe-output');\">See Full Dataframe in Mito</div> <script> if (window.commands.hasCommand('create-mitosheet-from-dataframe-output')) document.getElementById('ede64697-8fdf-44cf-ae23-84fd7f69a35a').style.display = 'flex' </script> <table border=\"1\" class=\"dataframe\">\n",
       "  <thead>\n",
       "    <tr style=\"text-align: right;\">\n",
       "      <th></th>\n",
       "      <th>CoCode</th>\n",
       "      <th>Region</th>\n",
       "      <th>G/UMJE</th>\n",
       "      <th>Time</th>\n",
       "      <th>Reference Key</th>\n",
       "      <th>Type</th>\n",
       "      <th>DT descr</th>\n",
       "      <th>DT assignment</th>\n",
       "      <th>MJE scope</th>\n",
       "      <th>TCode</th>\n",
       "      <th>Crcy</th>\n",
       "      <th>Closing week based on entry date</th>\n",
       "      <th>Closing/non-closing week based on entry date</th>\n",
       "      <th>Quarter</th>\n",
       "      <th>Type2</th>\n",
       "    </tr>\n",
       "  </thead>\n",
       "  <tbody>\n",
       "    <tr>\n",
       "      <th>4531</th>\n",
       "      <td>BR11</td>\n",
       "      <td>LAT</td>\n",
       "      <td>UMJE</td>\n",
       "      <td>17:54:04</td>\n",
       "      <td>7500000871BR112021</td>\n",
       "      <td>S2</td>\n",
       "      <td>G/L Accr Auto Revers</td>\n",
       "      <td>R2R - Accounting / Journal Entry</td>\n",
       "      <td>Yes</td>\n",
       "      <td>FBS1</td>\n",
       "      <td>BRL</td>\n",
       "      <td>P12 Thursday</td>\n",
       "      <td>P12 Thursday</td>\n",
       "      <td>Q4</td>\n",
       "      <td>Accrual</td>\n",
       "    </tr>\n",
       "    <tr>\n",
       "      <th>38983</th>\n",
       "      <td>ID81</td>\n",
       "      <td>APAC</td>\n",
       "      <td>GMJE</td>\n",
       "      <td>04:10:31</td>\n",
       "      <td>9390000092ID812021</td>\n",
       "      <td>XX</td>\n",
       "      <td>OI/OBL Permanent Adj</td>\n",
       "      <td>O2C- Order Intake</td>\n",
       "      <td>Yes</td>\n",
       "      <td>FB01</td>\n",
       "      <td>IDR</td>\n",
       "      <td>P12 Tuesday</td>\n",
       "      <td>P12 Tuesday</td>\n",
       "      <td>Q4</td>\n",
       "      <td>Permanent</td>\n",
       "    </tr>\n",
       "    <tr>\n",
       "      <th>32269</th>\n",
       "      <td>FIDX</td>\n",
       "      <td>WE</td>\n",
       "      <td>GMJE</td>\n",
       "      <td>10:52:55</td>\n",
       "      <td>8450000006FIDX2021</td>\n",
       "      <td>UP</td>\n",
       "      <td>I&amp;R/NSN Interg. Accr</td>\n",
       "      <td>R2R - Revenue Accounting</td>\n",
       "      <td>Yes</td>\n",
       "      <td>FBS1</td>\n",
       "      <td>EUR</td>\n",
       "      <td>P7 Friday</td>\n",
       "      <td>P7 Friday</td>\n",
       "      <td>Q3</td>\n",
       "      <td>Accrual</td>\n",
       "    </tr>\n",
       "    <tr>\n",
       "      <th>29157</th>\n",
       "      <td>FI85</td>\n",
       "      <td>WE</td>\n",
       "      <td>GMJE</td>\n",
       "      <td>10:20:49</td>\n",
       "      <td>8450003636FI852021</td>\n",
       "      <td>UP</td>\n",
       "      <td>I&amp;R/NSN Interg. Accr</td>\n",
       "      <td>R2R - Revenue Accounting</td>\n",
       "      <td>Yes</td>\n",
       "      <td>FBS1</td>\n",
       "      <td>EUR</td>\n",
       "      <td>P12 Monday</td>\n",
       "      <td>P12 Monday</td>\n",
       "      <td>Q4</td>\n",
       "      <td>Accrual</td>\n",
       "    </tr>\n",
       "    <tr>\n",
       "      <th>49013</th>\n",
       "      <td>PH82</td>\n",
       "      <td>APAC</td>\n",
       "      <td>UMJE</td>\n",
       "      <td>07:18:18</td>\n",
       "      <td>7580000026PH822021</td>\n",
       "      <td>SA</td>\n",
       "      <td>G/L account document</td>\n",
       "      <td>R2R - Accounting / Journal Entry</td>\n",
       "      <td>Yes</td>\n",
       "      <td>FB01</td>\n",
       "      <td>PHP</td>\n",
       "      <td>Non-closing week</td>\n",
       "      <td>P11 Non-closing week</td>\n",
       "      <td>Q4</td>\n",
       "      <td>Permanent</td>\n",
       "    </tr>\n",
       "  </tbody>\n",
       "</table></div>"
      ],
      "text/plain": [
       "      CoCode Region G/UMJE      Time       Reference Key Type  \\\n",
       "4531    BR11    LAT   UMJE  17:54:04  7500000871BR112021   S2   \n",
       "38983   ID81   APAC   GMJE  04:10:31  9390000092ID812021   XX   \n",
       "32269   FIDX     WE   GMJE  10:52:55  8450000006FIDX2021   UP   \n",
       "29157   FI85     WE   GMJE  10:20:49  8450003636FI852021   UP   \n",
       "49013   PH82   APAC   UMJE  07:18:18  7580000026PH822021   SA   \n",
       "\n",
       "                   DT descr                     DT assignment MJE scope TCode  \\\n",
       "4531   G/L Accr Auto Revers  R2R - Accounting / Journal Entry       Yes  FBS1   \n",
       "38983  OI/OBL Permanent Adj                 O2C- Order Intake       Yes  FB01   \n",
       "32269  I&R/NSN Interg. Accr          R2R - Revenue Accounting       Yes  FBS1   \n",
       "29157  I&R/NSN Interg. Accr          R2R - Revenue Accounting       Yes  FBS1   \n",
       "49013  G/L account document  R2R - Accounting / Journal Entry       Yes  FB01   \n",
       "\n",
       "      Crcy Closing week based on entry date  \\\n",
       "4531   BRL                     P12 Thursday   \n",
       "38983  IDR                      P12 Tuesday   \n",
       "32269  EUR                        P7 Friday   \n",
       "29157  EUR                       P12 Monday   \n",
       "49013  PHP                 Non-closing week   \n",
       "\n",
       "      Closing/non-closing week based on entry date Quarter      Type2  \n",
       "4531                                  P12 Thursday      Q4    Accrual  \n",
       "38983                                  P12 Tuesday      Q4  Permanent  \n",
       "32269                                    P7 Friday      Q3    Accrual  \n",
       "29157                                   P12 Monday      Q4    Accrual  \n",
       "49013                         P11 Non-closing week      Q4  Permanent  "
      ]
     },
     "execution_count": 9,
     "metadata": {},
     "output_type": "execute_result"
    }
   ],
   "source": [
    "MJE_categorical = pd.DataFrame(MJE, columns = categorical)\n",
    "MJE_categorical.sample(5)"
   ]
  },
  {
   "cell_type": "code",
   "execution_count": 10,
   "id": "83fb10c4",
   "metadata": {},
   "outputs": [],
   "source": [
    "numerical = MJE.select_dtypes(exclude=['object']).columns.tolist()"
   ]
  },
  {
   "cell_type": "code",
   "execution_count": 11,
   "id": "21281c93",
   "metadata": {},
   "outputs": [
    {
     "data": {
      "text/html": [
       "<div><div id=231e9db2-cd5c-4c16-bcb5-7d3f182d8420 style=\"display:none; background-color:#9D6CFF; color:white; width:200px; height:30px; padding-left:5px; border-radius:4px; flex-direction:row; justify-content:space-around; align-items:center;\" onmouseover=\"this.style.backgroundColor='#BA9BF8'\" onmouseout=\"this.style.backgroundColor='#9D6CFF'\" onclick=\"window.commands?.execute('create-mitosheet-from-dataframe-output');\">See Full Dataframe in Mito</div> <script> if (window.commands.hasCommand('create-mitosheet-from-dataframe-output')) document.getElementById('231e9db2-cd5c-4c16-bcb5-7d3f182d8420').style.display = 'flex' </script> <table border=\"1\" class=\"dataframe\">\n",
       "  <thead>\n",
       "    <tr style=\"text-align: right;\">\n",
       "      <th></th>\n",
       "      <th>DocumentNo</th>\n",
       "      <th>Year</th>\n",
       "      <th>Period</th>\n",
       "      <th>Pstng Date</th>\n",
       "      <th>Doc. Date</th>\n",
       "      <th>Entry Date</th>\n",
       "      <th>EUR_Value</th>\n",
       "    </tr>\n",
       "  </thead>\n",
       "  <tbody>\n",
       "    <tr>\n",
       "      <th>0</th>\n",
       "      <td>6630000017</td>\n",
       "      <td>2021</td>\n",
       "      <td>11</td>\n",
       "      <td>2021-11-19</td>\n",
       "      <td>2021-11-19</td>\n",
       "      <td>2021-11-30</td>\n",
       "      <td>203728.69</td>\n",
       "    </tr>\n",
       "    <tr>\n",
       "      <th>1</th>\n",
       "      <td>7010000000</td>\n",
       "      <td>2021</td>\n",
       "      <td>3</td>\n",
       "      <td>2021-03-25</td>\n",
       "      <td>2021-03-25</td>\n",
       "      <td>2021-03-25</td>\n",
       "      <td>30279.92</td>\n",
       "    </tr>\n",
       "    <tr>\n",
       "      <th>2</th>\n",
       "      <td>7490000000</td>\n",
       "      <td>2021</td>\n",
       "      <td>3</td>\n",
       "      <td>2021-04-01</td>\n",
       "      <td>2021-04-01</td>\n",
       "      <td>2021-04-01</td>\n",
       "      <td>200000.00</td>\n",
       "    </tr>\n",
       "    <tr>\n",
       "      <th>3</th>\n",
       "      <td>7490000001</td>\n",
       "      <td>2021</td>\n",
       "      <td>5</td>\n",
       "      <td>2021-06-03</td>\n",
       "      <td>2021-06-03</td>\n",
       "      <td>2021-06-03</td>\n",
       "      <td>200000.00</td>\n",
       "    </tr>\n",
       "    <tr>\n",
       "      <th>4</th>\n",
       "      <td>7490000002</td>\n",
       "      <td>2021</td>\n",
       "      <td>6</td>\n",
       "      <td>2021-06-30</td>\n",
       "      <td>2021-06-30</td>\n",
       "      <td>2021-06-30</td>\n",
       "      <td>200000.00</td>\n",
       "    </tr>\n",
       "  </tbody>\n",
       "</table></div>"
      ],
      "text/plain": [
       "   DocumentNo  Year  Period Pstng Date  Doc. Date Entry Date  EUR_Value\n",
       "0  6630000017  2021      11 2021-11-19 2021-11-19 2021-11-30  203728.69\n",
       "1  7010000000  2021       3 2021-03-25 2021-03-25 2021-03-25   30279.92\n",
       "2  7490000000  2021       3 2021-04-01 2021-04-01 2021-04-01  200000.00\n",
       "3  7490000001  2021       5 2021-06-03 2021-06-03 2021-06-03  200000.00\n",
       "4  7490000002  2021       6 2021-06-30 2021-06-30 2021-06-30  200000.00"
      ]
     },
     "execution_count": 11,
     "metadata": {},
     "output_type": "execute_result"
    }
   ],
   "source": [
    "MJE_numerical = pd.DataFrame(MJE, columns = numerical)\n",
    "MJE_numerical.head(5)"
   ]
  },
  {
   "cell_type": "markdown",
   "id": "e41db89b",
   "metadata": {},
   "source": [
    "# 2. Plot Correlation and Associations for the columns"
   ]
  },
  {
   "cell_type": "markdown",
   "id": "b0128cf5",
   "metadata": {},
   "source": [
    "### 2.1 Plot Associations for categorical columns"
   ]
  },
  {
   "cell_type": "code",
   "execution_count": 12,
   "id": "9bbd713b",
   "metadata": {
    "scrolled": false
   },
   "outputs": [
    {
     "data": {
      "image/png": "[encoded data removed]",
      "text/plain": [
       "<Figure size 1080x1080 with 2 Axes>"
      ]
     },
     "metadata": {
      "needs_background": "light"
     },
     "output_type": "display_data"
    },
    {
     "data": {
      "text/plain": [
       "{'corr':                                                 CoCode    Region    G/UMJE  \\\n",
       " CoCode                                        1.000000  0.535281  0.015394   \n",
       " Region                                        1.000000  1.000000  0.009991   \n",
       " G/UMJE                                        0.086234  0.029959  1.000000   \n",
       " Time                                          0.295657  0.146454  0.040974   \n",
       " Reference Key                                 0.323738  0.173291  0.057792   \n",
       " Type                                          0.120751  0.036347  0.045761   \n",
       " DT descr                                      0.120751  0.036347  0.045761   \n",
       " DT assignment                                 0.114564  0.039487  0.043450   \n",
       " MJE scope                                     0.000000  0.000000  0.000000   \n",
       " TCode                                         0.072049  0.021657  0.054271   \n",
       " Crcy                                          0.813857  0.512164  0.016352   \n",
       " Closing week based on entry date              0.052606  0.015173  0.006808   \n",
       " Closing/non-closing week based on entry date  0.054025  0.015268  0.006232   \n",
       " Quarter                                       0.006353  0.000927  0.000972   \n",
       " Type2                                         0.072049  0.021657  0.054271   \n",
       " \n",
       "                                                   Time  Reference Key  \\\n",
       " CoCode                                        0.868308            1.0   \n",
       " Region                                        0.803535            1.0   \n",
       " G/UMJE                                        0.674090            1.0   \n",
       " Time                                          1.000000            1.0   \n",
       " Reference Key                                 0.950776            1.0   \n",
       " Type                                          0.775807            1.0   \n",
       " DT descr                                      0.775807            1.0   \n",
       " DT assignment                                 0.747710            1.0   \n",
       " MJE scope                                     0.000000            0.0   \n",
       " TCode                                         0.685850            1.0   \n",
       " Crcy                                          0.849112            1.0   \n",
       " Closing week based on entry date              0.870491            1.0   \n",
       " Closing/non-closing week based on entry date  0.876400            1.0   \n",
       " Quarter                                       0.731647            1.0   \n",
       " Type2                                         0.685850            1.0   \n",
       " \n",
       "                                                   Type  DT descr  \\\n",
       " CoCode                                        0.062537  0.062537   \n",
       " Region                                        0.035166  0.035166   \n",
       " G/UMJE                                        0.132762  0.132762   \n",
       " Time                                          0.136808  0.136808   \n",
       " Reference Key                                 0.167663  0.167663   \n",
       " Type                                          1.000000  1.000000   \n",
       " DT descr                                      1.000000  1.000000   \n",
       " DT assignment                                 1.000000  1.000000   \n",
       " MJE scope                                     0.000000  0.000000   \n",
       " TCode                                         0.876730  0.876730   \n",
       " Crcy                                          0.062890  0.062890   \n",
       " Closing week based on entry date              0.029622  0.029622   \n",
       " Closing/non-closing week based on entry date  0.028268  0.028268   \n",
       " Quarter                                       0.007148  0.007148   \n",
       " Type2                                         0.876730  0.876730   \n",
       " \n",
       "                                               DT assignment  MJE scope  \\\n",
       " CoCode                                             0.042436        0.0   \n",
       " Region                                             0.027325        0.0   \n",
       " G/UMJE                                             0.090159        0.0   \n",
       " Time                                               0.094305        0.0   \n",
       " Reference Key                                      0.119917        0.0   \n",
       " Type                                               0.715224        0.0   \n",
       " DT descr                                           0.715224        0.0   \n",
       " DT assignment                                      1.000000        0.0   \n",
       " MJE scope                                          0.000000        0.0   \n",
       " TCode                                              0.294790        0.0   \n",
       " Crcy                                               0.039499        0.0   \n",
       " Closing week based on entry date                   0.017016        0.0   \n",
       " Closing/non-closing week based on entry date       0.016604        0.0   \n",
       " Quarter                                            0.005717        0.0   \n",
       " Type2                                              0.294790        0.0   \n",
       " \n",
       "                                                  TCode      Crcy  \\\n",
       " CoCode                                        0.016558  0.606781   \n",
       " Region                                        0.009298  0.713364   \n",
       " G/UMJE                                        0.069870  0.068295   \n",
       " Time                                          0.053671  0.215558   \n",
       " Reference Key                                 0.074402  0.241367   \n",
       " Type                                          0.389057  0.090536   \n",
       " DT descr                                      0.389057  0.090536   \n",
       " DT assignment                                 0.182902  0.079503   \n",
       " MJE scope                                     0.000000  0.000000   \n",
       " TCode                                         1.000000  0.055564   \n",
       " Crcy                                          0.017128  1.000000   \n",
       " Closing week based on entry date              0.016307  0.037896   \n",
       " Closing/non-closing week based on entry date  0.014905  0.038977   \n",
       " Quarter                                       0.000684  0.009756   \n",
       " Type2                                         1.000000  0.055564   \n",
       " \n",
       "                                               Closing week based on entry date  \\\n",
       " CoCode                                                                0.056615   \n",
       " Region                                                                0.030506   \n",
       " G/UMJE                                                                0.041046   \n",
       " Time                                                                  0.318991   \n",
       " Reference Key                                                         0.348411   \n",
       " Type                                                                  0.061556   \n",
       " DT descr                                                              0.061556   \n",
       " DT assignment                                                         0.049438   \n",
       " MJE scope                                                             0.000000   \n",
       " TCode                                                                 0.076362   \n",
       " Crcy                                                                  0.054702   \n",
       " Closing week based on entry date                                      1.000000   \n",
       " Closing/non-closing week based on entry date                          0.901359   \n",
       " Quarter                                                               0.829424   \n",
       " Type2                                                                 0.076362   \n",
       " \n",
       "                                               Closing/non-closing week based on entry date  \\\n",
       " CoCode                                                                            0.064506   \n",
       " Region                                                                            0.034057   \n",
       " G/UMJE                                                                            0.041685   \n",
       " Time                                                                              0.356302   \n",
       " Reference Key                                                                     0.386540   \n",
       " Type                                                                              0.065170   \n",
       " DT descr                                                                          0.065170   \n",
       " DT assignment                                                                     0.053520   \n",
       " MJE scope                                                                         0.000000   \n",
       " TCode                                                                             0.077434   \n",
       " Crcy                                                                              0.062420   \n",
       " Closing week based on entry date                                                  1.000000   \n",
       " Closing/non-closing week based on entry date                                      1.000000   \n",
       " Quarter                                                                           1.000000   \n",
       " Type2                                                                             0.077434   \n",
       " \n",
       "                                                Quarter     Type2  \n",
       " CoCode                                        0.002485  0.016558  \n",
       " Region                                        0.000677  0.009298  \n",
       " G/UMJE                                        0.002129  0.069870  \n",
       " Time                                          0.097435  0.053671  \n",
       " Reference Key                                 0.126617  0.074402  \n",
       " Type                                          0.005398  0.389057  \n",
       " DT descr                                      0.005398  0.389057  \n",
       " DT assignment                                 0.006036  0.182902  \n",
       " MJE scope                                     0.000000  0.000000  \n",
       " TCode                                         0.001164  1.000000  \n",
       " Crcy                                          0.005118  0.017128  \n",
       " Closing week based on entry date              0.301424  0.016307  \n",
       " Closing/non-closing week based on entry date  0.327566  0.014905  \n",
       " Quarter                                       1.000000  0.000684  \n",
       " Type2                                         0.001164  1.000000  ,\n",
       " 'ax': <AxesSubplot:>}"
      ]
     },
     "execution_count": 12,
     "metadata": {},
     "output_type": "execute_result"
    }
   ],
   "source": [
    "# Calculate the correlation/strength-of-association of features in data-set\n",
    "# with categorical features using:\n",
    "# Cramer's V or Theil's U for categorical-categorical cases\n",
    "\n",
    "associations(MJE_categorical, nom_nom_assoc='theil', figsize=(15, 15), cmap=None, cbar=True)"
   ]
  },
  {
   "cell_type": "markdown",
   "id": "664c9819",
   "metadata": {},
   "source": [
    "### 2.2 Plot Correlation for numerical columns"
   ]
  },
  {
   "cell_type": "code",
   "execution_count": 13,
   "id": "8d661ca4",
   "metadata": {},
   "outputs": [
    {
     "data": {
      "image/png": "[encoded data removed]",
      "text/plain": [
       "<Figure size 1080x1080 with 2 Axes>"
      ]
     },
     "metadata": {
      "needs_background": "light"
     },
     "output_type": "display_data"
    },
    {
     "data": {
      "text/plain": [
       "{'corr':             DocumentNo  Year    Period  Pstng Date  Doc. Date  Entry Date  \\\n",
       " DocumentNo    1.000000   0.0 -0.005612   -0.002185   0.006679   -0.002384   \n",
       " Year          0.000000   0.0  0.000000    0.000000   0.000000    0.000000   \n",
       " Period       -0.005612   0.0  1.000000    0.998635   0.847960    0.998796   \n",
       " Pstng Date   -0.002185   0.0  0.998635    1.000000   0.851160    0.999761   \n",
       " Doc. Date     0.006679   0.0  0.847960    0.851160   1.000000    0.851004   \n",
       " Entry Date   -0.002384   0.0  0.998796    0.999761   0.851004    1.000000   \n",
       " EUR_Value     0.005563   0.0 -0.002054   -0.002017  -0.001354   -0.002029   \n",
       " \n",
       "             EUR_Value  \n",
       " DocumentNo   0.005563  \n",
       " Year         0.000000  \n",
       " Period      -0.002054  \n",
       " Pstng Date  -0.002017  \n",
       " Doc. Date   -0.001354  \n",
       " Entry Date  -0.002029  \n",
       " EUR_Value    1.000000  ,\n",
       " 'ax': <AxesSubplot:>}"
      ]
     },
     "execution_count": 13,
     "metadata": {},
     "output_type": "execute_result"
    }
   ],
   "source": [
    "# Calculate the correlation/strength-of-association of features in data-set\n",
    "# with continuous features using:\n",
    "# Pearson's R for continuous-continuous cases\n",
    "\n",
    "associations(MJE_numerical, nom_nom_assoc='pearson', figsize=(15, 15), cmap=None, cbar=True)"
   ]
  },
  {
   "cell_type": "markdown",
   "id": "3b8989ec",
   "metadata": {},
   "source": [
    "### Remark:  As per above two heatmaps, some correlations and associations were found between the columns, but at the first sight it’s unlikely that can help us to predict  ‘MJE threshold recommendation’."
   ]
  },
  {
   "cell_type": "markdown",
   "id": "b7a61607",
   "metadata": {},
   "source": [
    "# 3. Summary Statistics"
   ]
  },
  {
   "cell_type": "markdown",
   "id": "37e89588",
   "metadata": {},
   "source": [
    "### 3.1 Summary Statistics for numerical columns"
   ]
  },
  {
   "cell_type": "code",
   "execution_count": 14,
   "id": "86145a64",
   "metadata": {},
   "outputs": [
    {
     "data": {
      "text/html": [
       "<div><div id=6da842b2-d3de-4e0b-9148-af54ec948084 style=\"display:none; background-color:#9D6CFF; color:white; width:200px; height:30px; padding-left:5px; border-radius:4px; flex-direction:row; justify-content:space-around; align-items:center;\" onmouseover=\"this.style.backgroundColor='#BA9BF8'\" onmouseout=\"this.style.backgroundColor='#9D6CFF'\" onclick=\"window.commands?.execute('create-mitosheet-from-dataframe-output');\">See Full Dataframe in Mito</div> <script> if (window.commands.hasCommand('create-mitosheet-from-dataframe-output')) document.getElementById('6da842b2-d3de-4e0b-9148-af54ec948084').style.display = 'flex' </script> <table border=\"1\" class=\"dataframe\">\n",
       "  <thead>\n",
       "    <tr style=\"text-align: right;\">\n",
       "      <th></th>\n",
       "      <th>DocumentNo</th>\n",
       "      <th>Year</th>\n",
       "      <th>Period</th>\n",
       "      <th>EUR_Value</th>\n",
       "    </tr>\n",
       "  </thead>\n",
       "  <tbody>\n",
       "    <tr>\n",
       "      <th>count</th>\n",
       "      <td>56140.0</td>\n",
       "      <td>56140.0</td>\n",
       "      <td>56140.0</td>\n",
       "      <td>56140.0</td>\n",
       "    </tr>\n",
       "    <tr>\n",
       "      <th>mean</th>\n",
       "      <td>7982232924.2</td>\n",
       "      <td>2021.0</td>\n",
       "      <td>6.8</td>\n",
       "      <td>2216304.6</td>\n",
       "    </tr>\n",
       "    <tr>\n",
       "      <th>std</th>\n",
       "      <td>606605870.3</td>\n",
       "      <td>0.0</td>\n",
       "      <td>3.5</td>\n",
       "      <td>190643110.8</td>\n",
       "    </tr>\n",
       "    <tr>\n",
       "      <th>min</th>\n",
       "      <td>6400000015.0</td>\n",
       "      <td>2021.0</td>\n",
       "      <td>1.0</td>\n",
       "      <td>0.0</td>\n",
       "    </tr>\n",
       "    <tr>\n",
       "      <th>25%</th>\n",
       "      <td>7500001567.8</td>\n",
       "      <td>2021.0</td>\n",
       "      <td>4.0</td>\n",
       "      <td>32565.3</td>\n",
       "    </tr>\n",
       "    <tr>\n",
       "      <th>50%</th>\n",
       "      <td>7580001381.5</td>\n",
       "      <td>2021.0</td>\n",
       "      <td>7.0</td>\n",
       "      <td>126364.8</td>\n",
       "    </tr>\n",
       "    <tr>\n",
       "      <th>75%</th>\n",
       "      <td>8450000034.0</td>\n",
       "      <td>2021.0</td>\n",
       "      <td>10.0</td>\n",
       "      <td>491273.0</td>\n",
       "    </tr>\n",
       "    <tr>\n",
       "      <th>max</th>\n",
       "      <td>9410000181.0</td>\n",
       "      <td>2021.0</td>\n",
       "      <td>12.0</td>\n",
       "      <td>44999700000.0</td>\n",
       "    </tr>\n",
       "  </tbody>\n",
       "</table></div>"
      ],
      "text/plain": [
       "         DocumentNo     Year   Period      EUR_Value\n",
       "count       56140.0  56140.0  56140.0        56140.0\n",
       "mean   7982232924.2   2021.0      6.8      2216304.6\n",
       "std     606605870.3      0.0      3.5    190643110.8\n",
       "min    6400000015.0   2021.0      1.0            0.0\n",
       "25%    7500001567.8   2021.0      4.0        32565.3\n",
       "50%    7580001381.5   2021.0      7.0       126364.8\n",
       "75%    8450000034.0   2021.0     10.0       491273.0\n",
       "max    9410000181.0   2021.0     12.0  44999700000.0"
      ]
     },
     "execution_count": 14,
     "metadata": {},
     "output_type": "execute_result"
    }
   ],
   "source": [
    "MJE_numerical.describe().applymap(lambda x: f\"{x:0.1f}\")"
   ]
  },
  {
   "cell_type": "code",
   "execution_count": 15,
   "id": "577c02c2",
   "metadata": {},
   "outputs": [
    {
     "name": "stdout",
     "output_type": "stream",
     "text": [
      "median of EUR_Value: 126364.75\n",
      "mod of EUR_Value: 0    10000.0\n",
      "dtype: float64\n"
     ]
    }
   ],
   "source": [
    "print('median of EUR_Value: ' + str(MJE_numerical['EUR_Value'].median()))\n",
    "print('mod of EUR_Value: ' + str(MJE_numerical['EUR_Value'].mode()))"
   ]
  },
  {
   "cell_type": "markdown",
   "id": "38db66d1",
   "metadata": {},
   "source": [
    "### 3.2 Summary Statistics for categorical columns"
   ]
  },
  {
   "cell_type": "code",
   "execution_count": 16,
   "id": "563a4f21",
   "metadata": {},
   "outputs": [
    {
     "data": {
      "text/html": [
       "<div><div id=26930f15-4c6f-4e15-9042-629e543a0914 style=\"display:none; background-color:#9D6CFF; color:white; width:200px; height:30px; padding-left:5px; border-radius:4px; flex-direction:row; justify-content:space-around; align-items:center;\" onmouseover=\"this.style.backgroundColor='#BA9BF8'\" onmouseout=\"this.style.backgroundColor='#9D6CFF'\" onclick=\"window.commands?.execute('create-mitosheet-from-dataframe-output');\">See Full Dataframe in Mito</div> <script> if (window.commands.hasCommand('create-mitosheet-from-dataframe-output')) document.getElementById('26930f15-4c6f-4e15-9042-629e543a0914').style.display = 'flex' </script> <table border=\"1\" class=\"dataframe\">\n",
       "  <thead>\n",
       "    <tr style=\"text-align: right;\">\n",
       "      <th></th>\n",
       "      <th>CoCode</th>\n",
       "      <th>Region</th>\n",
       "      <th>G/UMJE</th>\n",
       "      <th>Time</th>\n",
       "      <th>Reference Key</th>\n",
       "      <th>Type</th>\n",
       "      <th>DT descr</th>\n",
       "      <th>DT assignment</th>\n",
       "      <th>MJE scope</th>\n",
       "      <th>TCode</th>\n",
       "      <th>Crcy</th>\n",
       "      <th>Closing week based on entry date</th>\n",
       "      <th>Closing/non-closing week based on entry date</th>\n",
       "      <th>Quarter</th>\n",
       "      <th>Type2</th>\n",
       "    </tr>\n",
       "  </thead>\n",
       "  <tbody>\n",
       "    <tr>\n",
       "      <th>count</th>\n",
       "      <td>56140</td>\n",
       "      <td>56140</td>\n",
       "      <td>56140</td>\n",
       "      <td>56140</td>\n",
       "      <td>56140</td>\n",
       "      <td>56140</td>\n",
       "      <td>56140</td>\n",
       "      <td>56140</td>\n",
       "      <td>56140</td>\n",
       "      <td>56140</td>\n",
       "      <td>56140</td>\n",
       "      <td>56140</td>\n",
       "      <td>56140</td>\n",
       "      <td>56140</td>\n",
       "      <td>56140</td>\n",
       "    </tr>\n",
       "    <tr>\n",
       "      <th>unique</th>\n",
       "      <td>148</td>\n",
       "      <td>11</td>\n",
       "      <td>2</td>\n",
       "      <td>37123</td>\n",
       "      <td>56140</td>\n",
       "      <td>20</td>\n",
       "      <td>20</td>\n",
       "      <td>8</td>\n",
       "      <td>1</td>\n",
       "      <td>3</td>\n",
       "      <td>94</td>\n",
       "      <td>85</td>\n",
       "      <td>96</td>\n",
       "      <td>4</td>\n",
       "      <td>3</td>\n",
       "    </tr>\n",
       "    <tr>\n",
       "      <th>top</th>\n",
       "      <td>FI85</td>\n",
       "      <td>WE</td>\n",
       "      <td>GMJE</td>\n",
       "      <td>17:07:01</td>\n",
       "      <td>6630000017AE802021</td>\n",
       "      <td>SA</td>\n",
       "      <td>G/L account document</td>\n",
       "      <td>R2R - Accounting / Journal Entry</td>\n",
       "      <td>Yes</td>\n",
       "      <td>FB01</td>\n",
       "      <td>EUR</td>\n",
       "      <td>Non-closing week</td>\n",
       "      <td>P12 Non-closing week</td>\n",
       "      <td>Q4</td>\n",
       "      <td>Permanent</td>\n",
       "    </tr>\n",
       "    <tr>\n",
       "      <th>freq</th>\n",
       "      <td>15049</td>\n",
       "      <td>23129</td>\n",
       "      <td>37786</td>\n",
       "      <td>10</td>\n",
       "      <td>1</td>\n",
       "      <td>13520</td>\n",
       "      <td>13520</td>\n",
       "      <td>26734</td>\n",
       "      <td>56140</td>\n",
       "      <td>27200</td>\n",
       "      <td>22554</td>\n",
       "      <td>9688</td>\n",
       "      <td>1666</td>\n",
       "      <td>15393</td>\n",
       "      <td>27200</td>\n",
       "    </tr>\n",
       "  </tbody>\n",
       "</table></div>"
      ],
      "text/plain": [
       "       CoCode Region G/UMJE      Time       Reference Key   Type  \\\n",
       "count   56140  56140  56140     56140               56140  56140   \n",
       "unique    148     11      2     37123               56140     20   \n",
       "top      FI85     WE   GMJE  17:07:01  6630000017AE802021     SA   \n",
       "freq    15049  23129  37786        10                   1  13520   \n",
       "\n",
       "                    DT descr                     DT assignment MJE scope  \\\n",
       "count                  56140                             56140     56140   \n",
       "unique                    20                                 8         1   \n",
       "top     G/L account document  R2R - Accounting / Journal Entry       Yes   \n",
       "freq                   13520                             26734     56140   \n",
       "\n",
       "        TCode   Crcy Closing week based on entry date  \\\n",
       "count   56140  56140                            56140   \n",
       "unique      3     94                               85   \n",
       "top      FB01    EUR                 Non-closing week   \n",
       "freq    27200  22554                             9688   \n",
       "\n",
       "       Closing/non-closing week based on entry date Quarter      Type2  \n",
       "count                                         56140   56140      56140  \n",
       "unique                                           96       4          3  \n",
       "top                            P12 Non-closing week      Q4  Permanent  \n",
       "freq                                           1666   15393      27200  "
      ]
     },
     "execution_count": 16,
     "metadata": {},
     "output_type": "execute_result"
    }
   ],
   "source": [
    "MJE_categorical.describe(include='all')"
   ]
  },
  {
   "cell_type": "markdown",
   "id": "eb308c1e",
   "metadata": {},
   "source": [
    "# 4. Visualize Data"
   ]
  },
  {
   "cell_type": "markdown",
   "id": "2d318379",
   "metadata": {},
   "source": [
    "### 4.1 Plot columns in pairs + Boxplots to find-out any Outliers in the data"
   ]
  },
  {
   "cell_type": "code",
   "execution_count": 17,
   "id": "e7e5ed8f",
   "metadata": {
    "scrolled": false
   },
   "outputs": [
    {
     "data": {
      "text/plain": [
       "<seaborn.axisgrid.PairGrid at 0x22235152b20>"
      ]
     },
     "execution_count": 17,
     "metadata": {},
     "output_type": "execute_result"
    },
    {
     "data": {
      "image/png": "[encoded data removed]",
      "text/plain": [
       "<Figure size 720x720 with 20 Axes>"
      ]
     },
     "metadata": {
      "needs_background": "light"
     },
     "output_type": "display_data"
    }
   ],
   "source": [
    "import seaborn as sns\n",
    "sns.pairplot(MJE, diag_kind='kde')"
   ]
  },
  {
   "cell_type": "code",
   "execution_count": 18,
   "id": "eec66aec",
   "metadata": {},
   "outputs": [
    {
     "data": {
      "text/plain": [
       "<AxesSubplot:xlabel='EUR_Value'>"
      ]
     },
     "execution_count": 18,
     "metadata": {},
     "output_type": "execute_result"
    },
    {
     "data": {
      "image/png": "[encoded data removed]",
      "text/plain": [
       "<Figure size 432x288 with 1 Axes>"
      ]
     },
     "metadata": {
      "needs_background": "light"
     },
     "output_type": "display_data"
    }
   ],
   "source": [
    "sns.boxplot(x='EUR_Value', y=None, data = MJE)"
   ]
  },
  {
   "cell_type": "code",
   "execution_count": 19,
   "id": "9fd4b528",
   "metadata": {},
   "outputs": [
    {
     "data": {
      "text/plain": [
       "Text(0.5, 1.0, '')"
      ]
     },
     "execution_count": 19,
     "metadata": {},
     "output_type": "execute_result"
    },
    {
     "data": {
      "image/png": "[encoded data removed]",
      "text/plain": [
       "<Figure size 432x288 with 1 Axes>"
      ]
     },
     "metadata": {
      "needs_background": "light"
     },
     "output_type": "display_data"
    }
   ],
   "source": [
    "MJE.boxplot(column = 'EUR_Value', by = 'Region');\n",
    "plt.title('')"
   ]
  },
  {
   "cell_type": "markdown",
   "id": "b32041cf",
   "metadata": {},
   "source": [
    "   ### Remark: as per above 2 charts, we can notice that 'EUR_Value' contains at least one Outlier in the region WE."
   ]
  },
  {
   "cell_type": "markdown",
   "id": "fca54380",
   "metadata": {},
   "source": [
    "### 4.2 Drop the row which contains the outlier: 'EUR_Value' = MAX"
   ]
  },
  {
   "cell_type": "code",
   "execution_count": 20,
   "id": "c2b15f80",
   "metadata": {},
   "outputs": [
    {
     "data": {
      "text/html": [
       "<div><div id=ffc00c0d-134e-4386-81f7-930fd5d1188e style=\"display:none; background-color:#9D6CFF; color:white; width:200px; height:30px; padding-left:5px; border-radius:4px; flex-direction:row; justify-content:space-around; align-items:center;\" onmouseover=\"this.style.backgroundColor='#BA9BF8'\" onmouseout=\"this.style.backgroundColor='#9D6CFF'\" onclick=\"window.commands?.execute('create-mitosheet-from-dataframe-output');\">See Full Dataframe in Mito</div> <script> if (window.commands.hasCommand('create-mitosheet-from-dataframe-output')) document.getElementById('ffc00c0d-134e-4386-81f7-930fd5d1188e').style.display = 'flex' </script> <table border=\"1\" class=\"dataframe\">\n",
       "  <thead>\n",
       "    <tr style=\"text-align: right;\">\n",
       "      <th></th>\n",
       "      <th>CoCode</th>\n",
       "      <th>Region</th>\n",
       "      <th>DocumentNo</th>\n",
       "      <th>Year</th>\n",
       "      <th>Period</th>\n",
       "      <th>G/UMJE</th>\n",
       "      <th>Time</th>\n",
       "      <th>Reference Key</th>\n",
       "      <th>Type</th>\n",
       "      <th>DT descr</th>\n",
       "      <th>...</th>\n",
       "      <th>TCode</th>\n",
       "      <th>Pstng Date</th>\n",
       "      <th>Doc. Date</th>\n",
       "      <th>Entry Date</th>\n",
       "      <th>Crcy</th>\n",
       "      <th>Closing week based on entry date</th>\n",
       "      <th>Closing/non-closing week based on entry date</th>\n",
       "      <th>Quarter</th>\n",
       "      <th>Type2</th>\n",
       "      <th>EUR_Value</th>\n",
       "    </tr>\n",
       "  </thead>\n",
       "  <tbody>\n",
       "    <tr>\n",
       "      <th>0</th>\n",
       "      <td>AE80</td>\n",
       "      <td>MEA</td>\n",
       "      <td>6630000017</td>\n",
       "      <td>2021</td>\n",
       "      <td>11</td>\n",
       "      <td>UMJE</td>\n",
       "      <td>12:34:43</td>\n",
       "      <td>6630000017AE802021</td>\n",
       "      <td>PN</td>\n",
       "      <td>GL Account Doc LSAS</td>\n",
       "      <td>...</td>\n",
       "      <td>FB01</td>\n",
       "      <td>2021-11-19</td>\n",
       "      <td>2021-11-19</td>\n",
       "      <td>2021-11-30</td>\n",
       "      <td>AED</td>\n",
       "      <td>P11 Tuesday</td>\n",
       "      <td>P11 Tuesday</td>\n",
       "      <td>Q4</td>\n",
       "      <td>Permanent</td>\n",
       "      <td>203728.69</td>\n",
       "    </tr>\n",
       "    <tr>\n",
       "      <th>1</th>\n",
       "      <td>AE80</td>\n",
       "      <td>MEA</td>\n",
       "      <td>7010000000</td>\n",
       "      <td>2021</td>\n",
       "      <td>3</td>\n",
       "      <td>UMJE</td>\n",
       "      <td>14:54:23</td>\n",
       "      <td>7010000000AE802021</td>\n",
       "      <td>QP</td>\n",
       "      <td>OPEX man rev Perm Ac</td>\n",
       "      <td>...</td>\n",
       "      <td>FB01</td>\n",
       "      <td>2021-03-25</td>\n",
       "      <td>2021-03-25</td>\n",
       "      <td>2021-03-25</td>\n",
       "      <td>AED</td>\n",
       "      <td>Non-closing week</td>\n",
       "      <td>P3 Non-closing week</td>\n",
       "      <td>Q1</td>\n",
       "      <td>Permanent</td>\n",
       "      <td>30279.92</td>\n",
       "    </tr>\n",
       "    <tr>\n",
       "      <th>2</th>\n",
       "      <td>AE80</td>\n",
       "      <td>MEA</td>\n",
       "      <td>7490000000</td>\n",
       "      <td>2021</td>\n",
       "      <td>3</td>\n",
       "      <td>GMJE</td>\n",
       "      <td>15:40:36</td>\n",
       "      <td>7490000000AE802021</td>\n",
       "      <td>S1</td>\n",
       "      <td>G/L Accr Permanent</td>\n",
       "      <td>...</td>\n",
       "      <td>FB01</td>\n",
       "      <td>2021-04-01</td>\n",
       "      <td>2021-04-01</td>\n",
       "      <td>2021-04-01</td>\n",
       "      <td>EUR</td>\n",
       "      <td>P3 Thursday</td>\n",
       "      <td>P3 Thursday</td>\n",
       "      <td>Q1</td>\n",
       "      <td>Permanent</td>\n",
       "      <td>200000.00</td>\n",
       "    </tr>\n",
       "    <tr>\n",
       "      <th>3</th>\n",
       "      <td>AE80</td>\n",
       "      <td>MEA</td>\n",
       "      <td>7490000001</td>\n",
       "      <td>2021</td>\n",
       "      <td>5</td>\n",
       "      <td>GMJE</td>\n",
       "      <td>08:41:14</td>\n",
       "      <td>7490000001AE802021</td>\n",
       "      <td>S1</td>\n",
       "      <td>G/L Accr Permanent</td>\n",
       "      <td>...</td>\n",
       "      <td>FB01</td>\n",
       "      <td>2021-06-03</td>\n",
       "      <td>2021-06-03</td>\n",
       "      <td>2021-06-03</td>\n",
       "      <td>EUR</td>\n",
       "      <td>P5 Thursday</td>\n",
       "      <td>P5 Thursday</td>\n",
       "      <td>Q2</td>\n",
       "      <td>Permanent</td>\n",
       "      <td>200000.00</td>\n",
       "    </tr>\n",
       "    <tr>\n",
       "      <th>4</th>\n",
       "      <td>AE80</td>\n",
       "      <td>MEA</td>\n",
       "      <td>7490000002</td>\n",
       "      <td>2021</td>\n",
       "      <td>6</td>\n",
       "      <td>GMJE</td>\n",
       "      <td>14:41:07</td>\n",
       "      <td>7490000002AE802021</td>\n",
       "      <td>S1</td>\n",
       "      <td>G/L Accr Permanent</td>\n",
       "      <td>...</td>\n",
       "      <td>FB01</td>\n",
       "      <td>2021-06-30</td>\n",
       "      <td>2021-06-30</td>\n",
       "      <td>2021-06-30</td>\n",
       "      <td>EUR</td>\n",
       "      <td>P6 Wednesday</td>\n",
       "      <td>P6 Wednesday</td>\n",
       "      <td>Q2</td>\n",
       "      <td>Permanent</td>\n",
       "      <td>200000.00</td>\n",
       "    </tr>\n",
       "  </tbody>\n",
       "</table></div>"
      ],
      "text/plain": [
       "  CoCode Region  DocumentNo  Year  Period G/UMJE      Time  \\\n",
       "0   AE80    MEA  6630000017  2021      11   UMJE  12:34:43   \n",
       "1   AE80    MEA  7010000000  2021       3   UMJE  14:54:23   \n",
       "2   AE80    MEA  7490000000  2021       3   GMJE  15:40:36   \n",
       "3   AE80    MEA  7490000001  2021       5   GMJE  08:41:14   \n",
       "4   AE80    MEA  7490000002  2021       6   GMJE  14:41:07   \n",
       "\n",
       "        Reference Key Type              DT descr  ... TCode Pstng Date  \\\n",
       "0  6630000017AE802021   PN   GL Account Doc LSAS  ...  FB01 2021-11-19   \n",
       "1  7010000000AE802021   QP  OPEX man rev Perm Ac  ...  FB01 2021-03-25   \n",
       "2  7490000000AE802021   S1    G/L Accr Permanent  ...  FB01 2021-04-01   \n",
       "3  7490000001AE802021   S1    G/L Accr Permanent  ...  FB01 2021-06-03   \n",
       "4  7490000002AE802021   S1    G/L Accr Permanent  ...  FB01 2021-06-30   \n",
       "\n",
       "   Doc. Date Entry Date Crcy Closing week based on entry date  \\\n",
       "0 2021-11-19 2021-11-30  AED                      P11 Tuesday   \n",
       "1 2021-03-25 2021-03-25  AED                 Non-closing week   \n",
       "2 2021-04-01 2021-04-01  EUR                      P3 Thursday   \n",
       "3 2021-06-03 2021-06-03  EUR                      P5 Thursday   \n",
       "4 2021-06-30 2021-06-30  EUR                     P6 Wednesday   \n",
       "\n",
       "  Closing/non-closing week based on entry date Quarter      Type2  EUR_Value  \n",
       "0                                  P11 Tuesday      Q4  Permanent  203728.69  \n",
       "1                          P3 Non-closing week      Q1  Permanent   30279.92  \n",
       "2                                  P3 Thursday      Q1  Permanent  200000.00  \n",
       "3                                  P5 Thursday      Q2  Permanent  200000.00  \n",
       "4                                 P6 Wednesday      Q2  Permanent  200000.00  \n",
       "\n",
       "[5 rows x 22 columns]"
      ]
     },
     "execution_count": 20,
     "metadata": {},
     "output_type": "execute_result"
    }
   ],
   "source": [
    "MJE.drop(MJE['EUR_Value'].idxmax())\n",
    "MJE.head()\n",
    "# MJE.loc[MJE['EUR_Value']!=MJE['EUR Value'].max()]"
   ]
  },
  {
   "cell_type": "markdown",
   "id": "d0a2673e",
   "metadata": {},
   "source": [
    "### 4.3 Re-plot the 'EUR Value' column after the Outlier has been removed"
   ]
  },
  {
   "cell_type": "code",
   "execution_count": 21,
   "id": "fc6481fd",
   "metadata": {},
   "outputs": [
    {
     "data": {
      "text/plain": [
       "Text(0.5, 1.0, '')"
      ]
     },
     "execution_count": 21,
     "metadata": {},
     "output_type": "execute_result"
    },
    {
     "data": {
      "image/png": "[encoded data removed]",
      "text/plain": [
       "<Figure size 432x288 with 1 Axes>"
      ]
     },
     "metadata": {
      "needs_background": "light"
     },
     "output_type": "display_data"
    },
    {
     "data": {
      "image/png": "[encoded data removed]",
      "text/plain": [
       "<Figure size 432x288 with 1 Axes>"
      ]
     },
     "metadata": {
      "needs_background": "light"
     },
     "output_type": "display_data"
    }
   ],
   "source": [
    "sns.boxplot(x='EUR_Value', y=None, data = MJE.drop(MJE['EUR_Value'].idxmax()))\n",
    "MJE.drop(MJE['EUR_Value'].idxmax()).boxplot(column = 'EUR_Value', by = 'Region');\n",
    "plt.title('')"
   ]
  },
  {
   "cell_type": "markdown",
   "id": "c3044066",
   "metadata": {},
   "source": [
    "### Remark: as per above two charts, we can notice that 'EUR_Value' still contains many Outliers"
   ]
  },
  {
   "cell_type": "markdown",
   "id": "37a299cb",
   "metadata": {},
   "source": [
    "# 5. Outlier Detection and Treatment Using 1.5 IQR rule"
   ]
  },
  {
   "cell_type": "code",
   "execution_count": 22,
   "id": "1d382b4d",
   "metadata": {},
   "outputs": [
    {
     "data": {
      "text/html": [
       "<div><div id=94604cde-b705-4e65-ab70-3d9b40778136 style=\"display:none; background-color:#9D6CFF; color:white; width:200px; height:30px; padding-left:5px; border-radius:4px; flex-direction:row; justify-content:space-around; align-items:center;\" onmouseover=\"this.style.backgroundColor='#BA9BF8'\" onmouseout=\"this.style.backgroundColor='#9D6CFF'\" onclick=\"window.commands?.execute('create-mitosheet-from-dataframe-output');\">See Full Dataframe in Mito</div> <script> if (window.commands.hasCommand('create-mitosheet-from-dataframe-output')) document.getElementById('94604cde-b705-4e65-ab70-3d9b40778136').style.display = 'flex' </script> <table border=\"1\" class=\"dataframe\">\n",
       "  <thead>\n",
       "    <tr style=\"text-align: right;\">\n",
       "      <th></th>\n",
       "      <th>CoCode</th>\n",
       "      <th>Region</th>\n",
       "      <th>DocumentNo</th>\n",
       "      <th>Year</th>\n",
       "      <th>Period</th>\n",
       "      <th>G/UMJE</th>\n",
       "      <th>Time</th>\n",
       "      <th>Reference Key</th>\n",
       "      <th>Type</th>\n",
       "      <th>DT descr</th>\n",
       "      <th>...</th>\n",
       "      <th>TCode</th>\n",
       "      <th>Pstng Date</th>\n",
       "      <th>Doc. Date</th>\n",
       "      <th>Entry Date</th>\n",
       "      <th>Crcy</th>\n",
       "      <th>Closing week based on entry date</th>\n",
       "      <th>Closing/non-closing week based on entry date</th>\n",
       "      <th>Quarter</th>\n",
       "      <th>Type2</th>\n",
       "      <th>EUR_Value</th>\n",
       "    </tr>\n",
       "  </thead>\n",
       "  <tbody>\n",
       "    <tr>\n",
       "      <th>0</th>\n",
       "      <td>FI85</td>\n",
       "      <td>WE</td>\n",
       "      <td>8380006832</td>\n",
       "      <td>2021</td>\n",
       "      <td>6</td>\n",
       "      <td>UMJE</td>\n",
       "      <td>15:44:16</td>\n",
       "      <td>8380006832FI852021</td>\n",
       "      <td>UI</td>\n",
       "      <td>I&amp;R/NSN Interg. Corr</td>\n",
       "      <td>...</td>\n",
       "      <td>FB01</td>\n",
       "      <td>2021-06-30</td>\n",
       "      <td>2021-06-30</td>\n",
       "      <td>2021-07-01</td>\n",
       "      <td>EUR</td>\n",
       "      <td>P6 Thursday</td>\n",
       "      <td>P6 Thursday</td>\n",
       "      <td>Q2</td>\n",
       "      <td>Permanent</td>\n",
       "      <td>4.499970e+10</td>\n",
       "    </tr>\n",
       "    <tr>\n",
       "      <th>1</th>\n",
       "      <td>NL82</td>\n",
       "      <td>WE</td>\n",
       "      <td>7580000004</td>\n",
       "      <td>2021</td>\n",
       "      <td>2</td>\n",
       "      <td>UMJE</td>\n",
       "      <td>14:24:01</td>\n",
       "      <td>7580000004NL822021</td>\n",
       "      <td>SA</td>\n",
       "      <td>G/L account document</td>\n",
       "      <td>...</td>\n",
       "      <td>FB01</td>\n",
       "      <td>2021-03-03</td>\n",
       "      <td>2021-03-03</td>\n",
       "      <td>2021-03-03</td>\n",
       "      <td>EUR</td>\n",
       "      <td>P2 Wednesday</td>\n",
       "      <td>P2 Wednesday</td>\n",
       "      <td>Q1</td>\n",
       "      <td>Permanent</td>\n",
       "      <td>2.015390e+09</td>\n",
       "    </tr>\n",
       "    <tr>\n",
       "      <th>2</th>\n",
       "      <td>FI85</td>\n",
       "      <td>WE</td>\n",
       "      <td>7580002064</td>\n",
       "      <td>2021</td>\n",
       "      <td>9</td>\n",
       "      <td>UMJE</td>\n",
       "      <td>14:14:01</td>\n",
       "      <td>7580002064FI852021</td>\n",
       "      <td>SA</td>\n",
       "      <td>G/L account document</td>\n",
       "      <td>...</td>\n",
       "      <td>FB01</td>\n",
       "      <td>2021-09-17</td>\n",
       "      <td>2021-09-17</td>\n",
       "      <td>2021-09-17</td>\n",
       "      <td>EUR</td>\n",
       "      <td>Non-closing week</td>\n",
       "      <td>P9 Non-closing week</td>\n",
       "      <td>Q3</td>\n",
       "      <td>Permanent</td>\n",
       "      <td>1.778260e+09</td>\n",
       "    </tr>\n",
       "    <tr>\n",
       "      <th>3</th>\n",
       "      <td>FI85</td>\n",
       "      <td>WE</td>\n",
       "      <td>7580000442</td>\n",
       "      <td>2021</td>\n",
       "      <td>3</td>\n",
       "      <td>UMJE</td>\n",
       "      <td>09:10:52</td>\n",
       "      <td>7580000442FI852021</td>\n",
       "      <td>SA</td>\n",
       "      <td>G/L account document</td>\n",
       "      <td>...</td>\n",
       "      <td>FB01</td>\n",
       "      <td>2021-03-31</td>\n",
       "      <td>2021-03-31</td>\n",
       "      <td>2021-03-31</td>\n",
       "      <td>EUR</td>\n",
       "      <td>P3 Wednesday</td>\n",
       "      <td>P3 Wednesday</td>\n",
       "      <td>Q1</td>\n",
       "      <td>Permanent</td>\n",
       "      <td>1.720215e+09</td>\n",
       "    </tr>\n",
       "    <tr>\n",
       "      <th>4</th>\n",
       "      <td>US80</td>\n",
       "      <td>NAM</td>\n",
       "      <td>9390000001</td>\n",
       "      <td>2021</td>\n",
       "      <td>1</td>\n",
       "      <td>GMJE</td>\n",
       "      <td>19:00:24</td>\n",
       "      <td>9390000001US802021</td>\n",
       "      <td>XX</td>\n",
       "      <td>OI/OBL Permanent Adj</td>\n",
       "      <td>...</td>\n",
       "      <td>FB01</td>\n",
       "      <td>2021-02-04</td>\n",
       "      <td>2021-02-04</td>\n",
       "      <td>2021-02-04</td>\n",
       "      <td>USD</td>\n",
       "      <td>P1 Thursday</td>\n",
       "      <td>P1 Thursday</td>\n",
       "      <td>Q1</td>\n",
       "      <td>Permanent</td>\n",
       "      <td>8.214181e+08</td>\n",
       "    </tr>\n",
       "  </tbody>\n",
       "</table></div>"
      ],
      "text/plain": [
       "  CoCode Region  DocumentNo  Year  Period G/UMJE      Time  \\\n",
       "0   FI85     WE  8380006832  2021       6   UMJE  15:44:16   \n",
       "1   NL82     WE  7580000004  2021       2   UMJE  14:24:01   \n",
       "2   FI85     WE  7580002064  2021       9   UMJE  14:14:01   \n",
       "3   FI85     WE  7580000442  2021       3   UMJE  09:10:52   \n",
       "4   US80    NAM  9390000001  2021       1   GMJE  19:00:24   \n",
       "\n",
       "        Reference Key Type              DT descr  ... TCode Pstng Date  \\\n",
       "0  8380006832FI852021   UI  I&R/NSN Interg. Corr  ...  FB01 2021-06-30   \n",
       "1  7580000004NL822021   SA  G/L account document  ...  FB01 2021-03-03   \n",
       "2  7580002064FI852021   SA  G/L account document  ...  FB01 2021-09-17   \n",
       "3  7580000442FI852021   SA  G/L account document  ...  FB01 2021-03-31   \n",
       "4  9390000001US802021   XX  OI/OBL Permanent Adj  ...  FB01 2021-02-04   \n",
       "\n",
       "   Doc. Date Entry Date Crcy Closing week based on entry date  \\\n",
       "0 2021-06-30 2021-07-01  EUR                      P6 Thursday   \n",
       "1 2021-03-03 2021-03-03  EUR                     P2 Wednesday   \n",
       "2 2021-09-17 2021-09-17  EUR                 Non-closing week   \n",
       "3 2021-03-31 2021-03-31  EUR                     P3 Wednesday   \n",
       "4 2021-02-04 2021-02-04  USD                      P1 Thursday   \n",
       "\n",
       "  Closing/non-closing week based on entry date Quarter      Type2  \\\n",
       "0                                  P6 Thursday      Q2  Permanent   \n",
       "1                                 P2 Wednesday      Q1  Permanent   \n",
       "2                          P9 Non-closing week      Q3  Permanent   \n",
       "3                                 P3 Wednesday      Q1  Permanent   \n",
       "4                                  P1 Thursday      Q1  Permanent   \n",
       "\n",
       "      EUR_Value  \n",
       "0  4.499970e+10  \n",
       "1  2.015390e+09  \n",
       "2  1.778260e+09  \n",
       "3  1.720215e+09  \n",
       "4  8.214181e+08  \n",
       "\n",
       "[5 rows x 22 columns]"
      ]
     },
     "execution_count": 22,
     "metadata": {},
     "output_type": "execute_result"
    }
   ],
   "source": [
    "MJE.sort_values('EUR_Value', ascending=False, inplace=True, ignore_index = True)\n",
    "MJE.head()"
   ]
  },
  {
   "cell_type": "markdown",
   "id": "94999320",
   "metadata": {},
   "source": [
    "### 5.1 Calculate Lowerbound and Upperbound values"
   ]
  },
  {
   "cell_type": "code",
   "execution_count": 23,
   "id": "8177f3a0",
   "metadata": {},
   "outputs": [],
   "source": [
    "def outlier_treatment(datacolumn):\n",
    "    sorted(datacolumn)\n",
    "    Q1,Q3 = np.percentile(datacolumn , [25,75])\n",
    "    IQR = Q3 - Q1\n",
    "    lower_range = Q1 - (1.5 * IQR)\n",
    "    upper_range = Q3 + (1.5 * IQR)\n",
    "    return lower_range,upper_range"
   ]
  },
  {
   "cell_type": "code",
   "execution_count": 24,
   "id": "3190953e",
   "metadata": {},
   "outputs": [],
   "source": [
    "lowerbound,upperbound = outlier_treatment(MJE.EUR_Value)"
   ]
  },
  {
   "cell_type": "code",
   "execution_count": 25,
   "id": "42126d7b",
   "metadata": {},
   "outputs": [
    {
     "name": "stdout",
     "output_type": "stream",
     "text": [
      "-655496.3525 1179334.6675\n"
     ]
    }
   ],
   "source": [
    "print(lowerbound, upperbound)"
   ]
  },
  {
   "cell_type": "code",
   "execution_count": 26,
   "id": "6b8be418",
   "metadata": {},
   "outputs": [
    {
     "data": {
      "text/plain": [
       "0       4.499970e+10\n",
       "1       2.015390e+09\n",
       "2       1.778260e+09\n",
       "3       1.720215e+09\n",
       "4       8.214181e+08\n",
       "            ...     \n",
       "8101    1.180916e+06\n",
       "8102    1.180228e+06\n",
       "8103    1.180119e+06\n",
       "8104    1.179925e+06\n",
       "8105    1.179362e+06\n",
       "Name: EUR_Value, Length: 8106, dtype: float64"
      ]
     },
     "execution_count": 26,
     "metadata": {},
     "output_type": "execute_result"
    }
   ],
   "source": [
    "MJE.EUR_Value[(MJE.EUR_Value < lowerbound) | (MJE.EUR_Value > upperbound)]"
   ]
  },
  {
   "cell_type": "markdown",
   "id": "5d866174",
   "metadata": {},
   "source": [
    "### Remark: as per above, it turns-out that we have 8106 outliers and those must to be dropped"
   ]
  },
  {
   "cell_type": "markdown",
   "id": "178af463",
   "metadata": {},
   "source": [
    "### 5.2 Drop TOP 8106 values in EUR_Value column"
   ]
  },
  {
   "cell_type": "code",
   "execution_count": 27,
   "id": "1159f284",
   "metadata": {},
   "outputs": [
    {
     "data": {
      "text/plain": [
       "(48034, 22)"
      ]
     },
     "execution_count": 27,
     "metadata": {},
     "output_type": "execute_result"
    }
   ],
   "source": [
    "MJE.drop(MJE[ (MJE.EUR_Value > upperbound) | (MJE.EUR_Value < lowerbound) ].index , inplace=True)\n",
    "MJE.shape"
   ]
  },
  {
   "cell_type": "markdown",
   "id": "0a2fb998",
   "metadata": {},
   "source": [
    "### 5.3 Re-plot the 'EUR_Value' column after the outliers have been removed"
   ]
  },
  {
   "cell_type": "code",
   "execution_count": 28,
   "id": "fdb03bf7",
   "metadata": {},
   "outputs": [
    {
     "data": {
      "text/plain": [
       "Text(0.5, 1.0, '')"
      ]
     },
     "execution_count": 28,
     "metadata": {},
     "output_type": "execute_result"
    },
    {
     "data": {
      "image/png": "[encoded data removed]",
      "text/plain": [
       "<Figure size 432x288 with 1 Axes>"
      ]
     },
     "metadata": {
      "needs_background": "light"
     },
     "output_type": "display_data"
    },
    {
     "data": {
      "image/png": "[encoded data removed]",
      "text/plain": [
       "<Figure size 432x288 with 1 Axes>"
      ]
     },
     "metadata": {
      "needs_background": "light"
     },
     "output_type": "display_data"
    }
   ],
   "source": [
    "sns.boxplot(x='EUR_Value', y=None, data = MJE.drop(MJE['EUR_Value'].idxmax()))\n",
    "MJE.drop(MJE['EUR_Value'].idxmax()).boxplot(column = 'EUR_Value', by = 'Region');\n",
    "plt.title('')"
   ]
  }
 ],
 "metadata": {
  "kernelspec": {
   "display_name": "Python 3",
   "language": "python",
   "name": "python3"
  },
  "language_info": {
   "codemirror_mode": {
    "name": "ipython",
    "version": 3
   },
   "file_extension": ".py",
   "mimetype": "text/x-python",
   "name": "python",
   "nbconvert_exporter": "python",
   "pygments_lexer": "ipython3",
   "version": "3.8.10"
  }
 },
 "nbformat": 4,
 "nbformat_minor": 5
}
